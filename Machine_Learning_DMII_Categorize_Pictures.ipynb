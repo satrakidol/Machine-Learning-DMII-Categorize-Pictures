{
  "nbformat": 4,
  "nbformat_minor": 0,
  "metadata": {
    "colab": {
      "provenance": [],
      "gpuType": "T4",
      "include_colab_link": true
    },
    "kernelspec": {
      "display_name": "Python 3",
      "name": "python3"
    },
    "accelerator": "GPU",
    "gpuClass": "standard"
  },
  "cells": [
    {
      "cell_type": "markdown",
      "metadata": {
        "id": "view-in-github",
        "colab_type": "text"
      },
      "source": [
        "<a href=\"https://colab.research.google.com/github/satrakidol/Machine-Learning-DMII-Categorize-Pictures/blob/main/Machine_Learning_DMII_Categorize_Pictures.ipynb\" target=\"_parent\"><img src=\"https://colab.research.google.com/assets/colab-badge.svg\" alt=\"Open In Colab\"/></a>"
      ]
    },
    {
      "cell_type": "markdown",
      "metadata": {
        "id": "rM6rNFlnMi4H"
      },
      "source": [
        "# Κατηγοριοποίηση εικόνων με Νευρωνικά Δίκτυα\n",
        "\n",
        "Στο notebook αυτό καλείστε να ορίσετε απλά μοντέλα νευρωνικών δικτύων για την κατηγοριοποίηση εικόνων στο σύνολο δεδομένων CIFAR-10. Θα πρέπει να συμπληρώσετε τα κελιά που ανιτστοιχούν στο ορισμό, εκπαίδευση και αξιολόγησης των μοντέλων που αναφέρονται στην εκφώνηση της εργασίας σας."
      ]
    },
    {
      "cell_type": "code",
      "source": [
        "import numpy as np\n",
        "import tensorflow as tf\n",
        "from tensorflow import keras\n",
        "from tensorflow.keras import layers\n",
        "import tensorflow.keras.datasets\n",
        "import matplotlib.pyplot as plt"
      ],
      "metadata": {
        "id": "CET78TksO5IB"
      },
      "execution_count": null,
      "outputs": []
    },
    {
      "cell_type": "markdown",
      "metadata": {
        "id": "bp2xOS67fZM1"
      },
      "source": [
        "## Πειράματα στο CIFAR-10\n",
        "\n",
        "Το CIFAR-10 είναι ένα σύνολο μικρών εικόνων που ανήκουν σε μία από 10 κατηγορίες. Για λεπτομέρειες δείτε το site του dataset:\n",
        "\n",
        "https://www.cs.toronto.edu/~kriz/cifar.html\n",
        "\n",
        "Θα το επεξεργαστούμε με τρόπο παρόμοιο με το MNIST, όπως είδαμε στα σχετικά notebooks του μαθήματος. Η διαφορά εδώ είναι ότι το πρόβλημα είναι αρκετά πιο σύνθετο, μιας και έχουμε φυσικά αντικείμενα αντί για χειρόγραφους χαρακτήρες."
      ]
    },
    {
      "cell_type": "markdown",
      "metadata": {
        "id": "p4oT6TAvMqeN"
      },
      "source": [
        "\"Κατέβασμα\" του dataset, φόρτωση στη μνήμη, αλλαγή τύπου δεδομένων και μετασχηματισμός στο [0, 1]."
      ]
    },
    {
      "cell_type": "code",
      "metadata": {
        "id": "Zr1ptzwHOE37",
        "colab": {
          "base_uri": "https://localhost:8080/"
        },
        "outputId": "edc29486-f02c-4090-9d15-3a62e3688a87"
      },
      "source": [
        "((x_train, y_train), (x_test, y_test)) = keras.datasets.cifar10.load_data()\n",
        "x_train = x_train.astype('float32') / 255.0\n",
        "x_test = x_test.astype('float32') / 255.0"
      ],
      "execution_count": null,
      "outputs": [
        {
          "output_type": "stream",
          "name": "stdout",
          "text": [
            "Downloading data from https://www.cs.toronto.edu/~kriz/cifar-10-python.tar.gz\n",
            "170498071/170498071 [==============================] - 2s 0us/step\n"
          ]
        }
      ]
    },
    {
      "cell_type": "markdown",
      "metadata": {
        "id": "IbcCY6M2N-ty"
      },
      "source": [
        "Τα δεδομένα εκπαίδευσης περιλαμβάνουν 50000 έγχρωμες (3 κανάλια) εικόνες των 32x32 pixel."
      ]
    },
    {
      "cell_type": "code",
      "metadata": {
        "colab": {
          "base_uri": "https://localhost:8080/"
        },
        "id": "SrtjB59aOgyq",
        "outputId": "992d131d-5862-41a6-82b5-098f7a11f74f"
      },
      "source": [
        "print(x_train.shape)\n",
        "print(y_train.shape)\n"
      ],
      "execution_count": null,
      "outputs": [
        {
          "output_type": "stream",
          "name": "stdout",
          "text": [
            "(50000, 32, 32, 3)\n",
            "(50000, 1)\n"
          ]
        }
      ]
    },
    {
      "cell_type": "markdown",
      "metadata": {
        "id": "70_ZECByOMqN"
      },
      "source": [
        "Για παράδειγμα, η 2η εικόνα του συνόλου εκπαίδευσης:"
      ]
    },
    {
      "cell_type": "code",
      "metadata": {
        "colab": {
          "base_uri": "https://localhost:8080/",
          "height": 155
        },
        "id": "WE1BIwyHOnif",
        "outputId": "3c6fb0c6-0903-46e2-edb4-ea2836ceae79"
      },
      "source": [
        "fig = plt.figure(figsize=(1, 1))\n",
        "ax = fig.add_axes([0, 0, 1, 1])\n",
        "ax.axis('off')\n",
        "plt.imshow(x_train[1], interpolation=\"none\")"
      ],
      "execution_count": null,
      "outputs": [
        {
          "output_type": "execute_result",
          "data": {
            "text/plain": [
              "<matplotlib.image.AxesImage at 0x7f81a610a770>"
            ]
          },
          "metadata": {},
          "execution_count": 4
        },
        {
          "output_type": "display_data",
          "data": {
            "text/plain": [
              "<Figure size 100x100 with 1 Axes>"
            ],
            "image/png": "[encoded data removed]"
          },
          "metadata": {}
        }
      ]
    },
    {
      "cell_type": "markdown",
      "metadata": {
        "id": "yT3ccS2XOVcS"
      },
      "source": [
        "Τα δεδομένα μας χωρίζονται σε 10 κλάσεις:"
      ]
    },
    {
      "cell_type": "code",
      "metadata": {
        "colab": {
          "base_uri": "https://localhost:8080/"
        },
        "id": "9T9xJB4AOUIH",
        "outputId": "84a19e00-8b2b-44f0-9fb3-144d611d5dab"
      },
      "source": [
        "print(y_train[10])\n",
        "print(np.unique(y_train))"
      ],
      "execution_count": null,
      "outputs": [
        {
          "output_type": "stream",
          "name": "stdout",
          "text": [
            "[4]\n",
            "[0 1 2 3 4 5 6 7 8 9]\n"
          ]
        }
      ]
    },
    {
      "cell_type": "markdown",
      "metadata": {
        "id": "_ncEB1RAORge"
      },
      "source": [
        "Προσπαθήστε να λύσετε το πρόβλημα της κατηγοριοποίησης εικόνων με ένα πλήρως διασυνδεδεμένο νευρωνικό δίκτυο, με 2 κρυφά layers των 20 νευρώνων το καθένα. Για ένα τέτοιο μοντέλο θα πρέπει να μετασχηματίσουμε την είσοδο και την έξοδο. Η είσοδος θα πρέπει να είναι ένα μεγάλο διάνυσμα (αντί για εικόνα), ενώ η έξοδος ένα one-hot vector των 10 στοιχείων:"
      ]
    },
    {
      "cell_type": "code",
      "metadata": {
        "id": "5eusUIcKPMM5"
      },
      "source": [
        "x_train_fc = x_train.reshape((x_train.shape[0], x_train[0].shape[0] * x_train[0].shape[1] * x_train[0].shape[2]))\n",
        "y_train_fc = keras.utils.to_categorical(y_train, num_classes=10)"
      ],
      "execution_count": null,
      "outputs": []
    },
    {
      "cell_type": "markdown",
      "metadata": {
        "id": "ez8AR_kbPVAN"
      },
      "source": [
        "Έπειτα θα πρέπει να οριστεί το μοντέλο μας:"
      ]
    },
    {
      "cell_type": "code",
      "source": [
        "print(x_train_fc)"
      ],
      "metadata": {
        "colab": {
          "base_uri": "https://localhost:8080/"
        },
        "id": "NZeEmgFRrf_Y",
        "outputId": "73defb18-c67a-4b1a-97ed-43dfd18c4fc8"
      },
      "execution_count": null,
      "outputs": [
        {
          "output_type": "stream",
          "name": "stdout",
          "text": [
            "[[0.23137255 0.24313726 0.24705882 ... 0.48235294 0.36078432 0.28235295]\n",
            " [0.6039216  0.69411767 0.73333335 ... 0.56078434 0.52156866 0.5647059 ]\n",
            " [1.         1.         1.         ... 0.3137255  0.3372549  0.32941177]\n",
            " ...\n",
            " [0.13725491 0.69803923 0.92156863 ... 0.04705882 0.12156863 0.19607843]\n",
            " [0.7411765  0.827451   0.9411765  ... 0.7647059  0.74509805 0.67058825]\n",
            " [0.8980392  0.8980392  0.9372549  ... 0.6392157  0.6392157  0.6313726 ]]\n"
          ]
        }
      ]
    },
    {
      "cell_type": "code",
      "source": [
        "x_train_fc.shape"
      ],
      "metadata": {
        "colab": {
          "base_uri": "https://localhost:8080/"
        },
        "id": "bRoV1XTMh6qb",
        "outputId": "0921e059-93cd-411b-d568-a42b37399eda"
      },
      "execution_count": null,
      "outputs": [
        {
          "output_type": "execute_result",
          "data": {
            "text/plain": [
              "(50000, 3072)"
            ]
          },
          "metadata": {},
          "execution_count": 8
        }
      ]
    },
    {
      "cell_type": "markdown",
      "source": [
        "## Στα παρακάτω κελιά εκπαιδεύστε ένα πλήρως διασυνδεδεμένο νευρωνικό δίκτυο με:\n",
        "* 2 κρυφά επίπεδα των 20 νευρώνων το καθένα με συνάρτηση ενεργοποίησης ReLU\n",
        "* 1 τελικό πλήρες διασυνδεδεμένο επίπεδο, με κατάλληλη συνάρτηση ενεργοποίησης\n",
        "* SGD optimizer με ρυθμό εκμάθησης 0.001 και κατάλληλο loss function\n",
        "* 20 εποχές εκπαίδευσης με batch size 50 δείγματα\n",
        "\n",
        "Χρησιμοποιήστε την ```model.summary()``` για να βεβαιωθείτε για την αρχιτεκτονική και να δείτε τις παραμέτρους του μοντέλου."
      ],
      "metadata": {
        "id": "-u7FhhiCI_IX"
      }
    },
    {
      "cell_type": "code",
      "metadata": {
        "id": "P0gl41ADSUqz",
        "colab": {
          "base_uri": "https://localhost:8080/"
        },
        "outputId": "1a2c8dc7-a1da-48e0-c4eb-b53bbe5f73d0"
      },
      "source": [
        "# Case 1: Fully connected model\n",
        "\n",
        "###### DEFINE MODEL HERE ######\n",
        "num_classes = 10\n",
        "\n",
        "model = keras.Sequential([\n",
        "    layers.Input(shape=(3072,)),\n",
        "    layers.Dense(20, activation='relu', ),\n",
        "    layers.Dense(20, activation='relu'),\n",
        "    layers.Dense(num_classes, activation='softmax')\n",
        "])\n",
        "\n",
        "\n",
        "model.summary()"
      ],
      "execution_count": null,
      "outputs": [
        {
          "output_type": "stream",
          "name": "stdout",
          "text": [
            "Model: \"sequential\"\n",
            "_________________________________________________________________\n",
            " Layer (type)                Output Shape              Param #   \n",
            "=================================================================\n",
            " dense (Dense)               (None, 20)                61460     \n",
            "                                                                 \n",
            " dense_1 (Dense)             (None, 20)                420       \n",
            "                                                                 \n",
            " dense_2 (Dense)             (None, 10)                210       \n",
            "                                                                 \n",
            "=================================================================\n",
            "Total params: 62,090\n",
            "Trainable params: 62,090\n",
            "Non-trainable params: 0\n",
            "_________________________________________________________________\n"
          ]
        }
      ]
    },
    {
      "cell_type": "markdown",
      "metadata": {
        "id": "nmVa43iEPXj0"
      },
      "source": [
        "**Ερώτηση:** Πως προκύπτει ο αριθμός των παραμέτρων του κάθε επιπέδου;\n",
        "\n"
      ]
    },
    {
      "cell_type": "markdown",
      "source": [
        "Το πρώτο επίπεδο έχει 20 νευρώνες και η είσοδός του είναι ένα διάνυσμα της μορφής (3072,). Όπως μας έδειξε η εντολή shape. Κάθε νευρώνας στο επίπεδο 1 συνδέεται με όλες τις εισόδους, οπότε ο αριθμός των παραμέτρων είναι 3072 * 20 = 61,460.\n",
        "Επιπλέον, για κάθε νευρώνα, υπάρχει το bias που προστίθεται στον υπολογισμό της εξόδου του. Έτσι, για 20 νευρώνες, έχουμε 20 παραμέτρους bias που προστίθενται. Άρα, συνολικά, το layer 1 έχει 61,460 + 20 = 61,480 παραμέτρους.\n",
        "Το δεύτερο επίπεδο έχει επίσης 20 νευρώνες και η είσοδός του είναι τα 20 χαρακτηριστικά από το layer 1. Ο αριθμός των παραμέτρων υπολογίζεται ως 20 * 20 = 400 για τους συντελεστές σύνδεσης και 20 το bias. Συνολικά, το layer 2 έχει 400 + 20 = 420 παραμέτρους.\n",
        "Το τρίτο επίπεδο είναι ουσιαστικά ο ταξινομητής του μοντέλου και έχει 10 νευρώνες (καθένας αντιπροσωπεύει μια κλάση). Η είσοδός του είναι τα 20 χαρακτηριστικά από το layer 2. Ο αριθμός των παραμέτρων υπολογίζεται ως 20 * 10 = 200 για τους συντελεστές σύνδεσης και 10 για το bias. Συνολικά, το Dense 3 έχει 200 + 10 = 210 παραμέτρους.\n",
        "Έτσι, συνολικά το μοντέλο έχει 61,480 + 420 + 210 = 62,090 παραμέτρους.\n"
      ],
      "metadata": {
        "id": "eUymgXqpmJLt"
      }
    },
    {
      "cell_type": "markdown",
      "source": [
        "Ορίζουμε παρακάτω τις παραμέτρους εκπαίδευσης του μοντέλου με την μέθοδο ```compile()``` και το εκπαιδεύουμε με την μέθοδο ```fit()```."
      ],
      "metadata": {
        "id": "rnG0_aCiKp-X"
      }
    },
    {
      "cell_type": "code",
      "metadata": {
        "id": "jTEB72s2Ub9Q",
        "colab": {
          "base_uri": "https://localhost:8080/"
        },
        "outputId": "cde6ce9d-47ac-4a3d-9acd-9ebed7732dbf"
      },
      "source": [
        "###### COMPILE MODEL HERE ( .compile() )######\n",
        "\n",
        "model.compile(loss=\"categorical_crossentropy\", optimizer=keras.optimizers.SGD(learning_rate=0.001), metrics=[\"accuracy\"])\n",
        "\n",
        "###### TRAIN MODEL HERE ( .fit() ) ######\n",
        "\n",
        "model.fit(x_train_fc, y_train_fc, epochs=20, batch_size=50)"
      ],
      "execution_count": null,
      "outputs": [
        {
          "output_type": "stream",
          "name": "stdout",
          "text": [
            "Epoch 1/20\n",
            "1000/1000 [==============================] - 8s 3ms/step - loss: 2.2455 - accuracy: 0.1602\n",
            "Epoch 2/20\n",
            "1000/1000 [==============================] - 3s 3ms/step - loss: 2.1551 - accuracy: 0.1990\n",
            "Epoch 3/20\n",
            "1000/1000 [==============================] - 3s 3ms/step - loss: 2.0762 - accuracy: 0.2297\n",
            "Epoch 4/20\n",
            "1000/1000 [==============================] - 3s 3ms/step - loss: 2.0089 - accuracy: 0.2700\n",
            "Epoch 5/20\n",
            "1000/1000 [==============================] - 3s 3ms/step - loss: 1.9577 - accuracy: 0.2998\n",
            "Epoch 6/20\n",
            "1000/1000 [==============================] - 4s 4ms/step - loss: 1.9204 - accuracy: 0.3179\n",
            "Epoch 7/20\n",
            "1000/1000 [==============================] - 3s 3ms/step - loss: 1.8939 - accuracy: 0.3296\n",
            "Epoch 8/20\n",
            "1000/1000 [==============================] - 3s 3ms/step - loss: 1.8729 - accuracy: 0.3415\n",
            "Epoch 9/20\n",
            "1000/1000 [==============================] - 3s 3ms/step - loss: 1.8548 - accuracy: 0.3471\n",
            "Epoch 10/20\n",
            "1000/1000 [==============================] - 4s 4ms/step - loss: 1.8403 - accuracy: 0.3558\n",
            "Epoch 11/20\n",
            "1000/1000 [==============================] - 3s 3ms/step - loss: 1.8265 - accuracy: 0.3601\n",
            "Epoch 12/20\n",
            "1000/1000 [==============================] - 3s 3ms/step - loss: 1.8142 - accuracy: 0.3638\n",
            "Epoch 13/20\n",
            "1000/1000 [==============================] - 3s 3ms/step - loss: 1.8029 - accuracy: 0.3683\n",
            "Epoch 14/20\n",
            "1000/1000 [==============================] - 4s 4ms/step - loss: 1.7921 - accuracy: 0.3736\n",
            "Epoch 15/20\n",
            "1000/1000 [==============================] - 3s 3ms/step - loss: 1.7823 - accuracy: 0.3764\n",
            "Epoch 16/20\n",
            "1000/1000 [==============================] - 3s 3ms/step - loss: 1.7736 - accuracy: 0.3798\n",
            "Epoch 17/20\n",
            "1000/1000 [==============================] - 3s 3ms/step - loss: 1.7655 - accuracy: 0.3830\n",
            "Epoch 18/20\n",
            "1000/1000 [==============================] - 4s 4ms/step - loss: 1.7575 - accuracy: 0.3836\n",
            "Epoch 19/20\n",
            "1000/1000 [==============================] - 3s 3ms/step - loss: 1.7503 - accuracy: 0.3883\n",
            "Epoch 20/20\n",
            "1000/1000 [==============================] - 3s 3ms/step - loss: 1.7432 - accuracy: 0.3903\n"
          ]
        },
        {
          "output_type": "execute_result",
          "data": {
            "text/plain": [
              "<keras.callbacks.History at 0x7f819cedad10>"
            ]
          },
          "metadata": {},
          "execution_count": 10
        }
      ]
    },
    {
      "cell_type": "markdown",
      "metadata": {
        "id": "p8d_P8R5PryG"
      },
      "source": [
        "Μετασχηματίζουμε τα δεδομένα δοκιμής"
      ]
    },
    {
      "cell_type": "code",
      "metadata": {
        "id": "HuZ3ZpmCV4Ei",
        "colab": {
          "base_uri": "https://localhost:8080/"
        },
        "outputId": "edf4c0bb-104b-4cdf-9817-9c18c15db3ae"
      },
      "source": [
        "x_test_fc = x_test.reshape((x_test.shape[0], x_test[0].shape[0] * x_test[0].shape[1] * x_test[0].shape[2]))\n",
        "y_test_fc = keras.utils.to_categorical(y_test, num_classes=10)\n",
        "print(y_test_fc[0])\n",
        "print(x_test_fc[0].shape)"
      ],
      "execution_count": null,
      "outputs": [
        {
          "output_type": "stream",
          "name": "stdout",
          "text": [
            "[0. 0. 0. 1. 0. 0. 0. 0. 0. 0.]\n",
            "(3072,)\n"
          ]
        }
      ]
    },
    {
      "cell_type": "markdown",
      "metadata": {
        "id": "8gSG1zMQPwOi"
      },
      "source": [
        "και αξιολογούμε το μοντέλο μας:"
      ]
    },
    {
      "cell_type": "code",
      "metadata": {
        "id": "DeBGiaCdWj9r",
        "colab": {
          "base_uri": "https://localhost:8080/"
        },
        "outputId": "b7e3a57b-598a-40aa-c433-b94d2153805b"
      },
      "source": [
        "###### EVALUATE MODEL HERE ( .evaluate() ) ######\n",
        "\n",
        "score = model.evaluate(x_test_fc, y_test_fc, verbose = 'auto')\n",
        "\n",
        "print(\"Test loss:\", score[0])\n",
        "print(\"Test accuracy:\", score[1])\n"
      ],
      "execution_count": null,
      "outputs": [
        {
          "output_type": "stream",
          "name": "stdout",
          "text": [
            "313/313 [==============================] - 1s 3ms/step - loss: 1.7438 - accuracy: 0.3895\n",
            "Test loss: 1.7437750101089478\n",
            "Test accuracy: 0.3894999921321869\n"
          ]
        }
      ]
    },
    {
      "cell_type": "markdown",
      "metadata": {
        "id": "yqTwc-8cPykQ"
      },
      "source": [
        "## Στα παρακάτω κελιά εκαπιδεύστε ένα συνελικτικό νευρωνικό δίκτυο με:\n",
        "* 2 συνελικτικά επίπεδα των 16 και 32 φίλτρων με συνάρτηση ενεργοποίησης RelU\n",
        "* 2 ενδιάμεσα επίπεδα συγκέντρωσης\n",
        "* 1 επίπεδο Flatten\n",
        "* 1 τελικό πλήρες διασυνδεδεμένο επίπεδο, με κατάλληλη συνάρτηση ενεργοποίησης\n",
        "* Adam optimizer με ρυθμό εκμάθησης 0.001 και κατάλληλο loss function\n",
        "* 20 εποχές εκπαίδευσης με batch size 50 δείγματα\n",
        "\n",
        "Για τα επίπεδα συγκέντρωσης χρησιμοποιήστε επίπεδα ```MaxPooling2D()```.\n",
        "\n",
        "Χρησιμοποιήστε την ```model.summary()``` για να βεβαιωθείτε για την αρχιτεκτονική και να δείτε τις παραμέτρους του μοντέλου."
      ]
    },
    {
      "cell_type": "code",
      "metadata": {
        "id": "8dhxEOGNWq25",
        "colab": {
          "base_uri": "https://localhost:8080/"
        },
        "outputId": "0e6383da-a51e-499b-b013-7b5222679af2"
      },
      "source": [
        "# Case 2: Convolutional Neural Network\n",
        "\n",
        "###### DEFINE MODEL HERE ######\n",
        "\n",
        "model = keras.Sequential(\n",
        "[\n",
        "keras.Input(shape=(32, 32, 3)),\n",
        "layers.Conv2D(16, kernel_size=(3, 3), activation=\"relu\"),\n",
        "layers.MaxPooling2D(pool_size=(2, 2)),\n",
        "layers.Conv2D(32, kernel_size=(3, 3), activation=\"relu\"),\n",
        "layers.MaxPooling2D(pool_size=(2, 2)),\n",
        "layers.Flatten(),\n",
        "layers.Dense(num_classes, activation=\"softmax\"),\n",
        "]\n",
        ")\n",
        "model.summary()"
      ],
      "execution_count": null,
      "outputs": [
        {
          "output_type": "stream",
          "name": "stdout",
          "text": [
            "Model: \"sequential_1\"\n",
            "_________________________________________________________________\n",
            " Layer (type)                Output Shape              Param #   \n",
            "=================================================================\n",
            " conv2d (Conv2D)             (None, 30, 30, 16)        448       \n",
            "                                                                 \n",
            " max_pooling2d (MaxPooling2D  (None, 15, 15, 16)       0         \n",
            " )                                                               \n",
            "                                                                 \n",
            " conv2d_1 (Conv2D)           (None, 13, 13, 32)        4640      \n",
            "                                                                 \n",
            " max_pooling2d_1 (MaxPooling  (None, 6, 6, 32)         0         \n",
            " 2D)                                                             \n",
            "                                                                 \n",
            " flatten (Flatten)           (None, 1152)              0         \n",
            "                                                                 \n",
            " dense_3 (Dense)             (None, 10)                11530     \n",
            "                                                                 \n",
            "=================================================================\n",
            "Total params: 16,618\n",
            "Trainable params: 16,618\n",
            "Non-trainable params: 0\n",
            "_________________________________________________________________\n"
          ]
        }
      ]
    },
    {
      "cell_type": "markdown",
      "metadata": {
        "id": "O1Z_saqWQAtC"
      },
      "source": [
        "**Ερώτηση:** Σ' αυτή την περίπτωση, πως προκύπτει ο αριθμός των παραμέτρων;\n",
        "\n",
        "Το πρώτο επίπεδο (Conv2D) έχει 16 φίλτρα με μέγεθος (3, 3). Κάθε φίλτρο έχει 3 (το πλάτος) * 3 (το ύψος) * 3 (το βάθος των εισόδων) + 1 (το bias) = 28 παραμέτρους. Άρα συνολικά έχουμε 16 * 28 = 448 παραμέτρους.\n",
        "Το δεύτερο επίπεδο ( MaxPooling2D) δεν έχει παραμέτρους, απλώς μειώνει τις διαστάσεις των εισόδων.\n",
        "Το τρίτο επίπεδο (Conv2D) έχει 32 φίλτρα με μέγεθος (3, 3). Κάθε φίλτρο έχει 16 (το πλάτος της προηγούμενης εξόδου) * 16 (το ύψος της προηγούμενης εξόδου) * 16 (το βάθος της προηγούμενης εξόδου) + 1 (το bias) = 4640 παραμέτρους.\n",
        "Το τέταρτο επίπεδο ( MaxPooling2D) δεν έχει παραμέτρους, απλώς μειώνει τις διαστάσεις των εισόδων.\n",
        "Το πέμπτο επίπεδο ( Flatten) δεν έχει παραμέτρους. Απλώς μετατρέπει τις πολυδιάστατες εξόδους σε μία επίπεδη μορφή.\n",
        "Το έκτο επίπεδο έχει 1152 (το πλάτος της εξόδου του Flatten) παραμέτρους * 10 (τον αριθμό των κλάσεων) + 10 (τα biases) = 11.530 παραμέτρους.\n",
        "Άρα, ο συνολικός αριθμός των παραμέτρων στο μοντέλο είναι:\n",
        "448 + 4640 + 11.530 = 16.618\n"
      ]
    },
    {
      "cell_type": "markdown",
      "metadata": {
        "id": "7l5st7fGQFvg"
      },
      "source": [
        "Εκπαιδεύουμε το μοντέλο μας. Προσοχή, εδώ η είσοδος στην μέθοδο ```.fit()``` είναι οι εικόνες (x_train) και όχι τα διανύσματα (x_train_fc)."
      ]
    },
    {
      "cell_type": "code",
      "metadata": {
        "id": "wHsfyP8pY5Vv",
        "colab": {
          "base_uri": "https://localhost:8080/"
        },
        "outputId": "26c47bf1-0f16-4789-9f38-4cf22fb002a8"
      },
      "source": [
        "###### COMPILE MODEL HERE ( .compile() )######\n",
        "\n",
        "model.compile(optimizer=\"adam\", loss=\"categorical_crossentropy\", metrics=[\"accuracy\"])\n",
        "\n",
        "y_test_fc = keras.utils.to_categorical(y_train, num_classes=10)\n",
        "\n",
        "\n",
        "###### TRAIN MODEL HERE ( .fit() ) ######\n",
        "\n",
        "model.fit(x_train, y_test_fc, batch_size=50, epochs=20)"
      ],
      "execution_count": null,
      "outputs": [
        {
          "output_type": "stream",
          "name": "stdout",
          "text": [
            "Epoch 1/20\n",
            "1000/1000 [==============================] - 10s 3ms/step - loss: 1.5721 - accuracy: 0.4405\n",
            "Epoch 2/20\n",
            "1000/1000 [==============================] - 6s 6ms/step - loss: 1.2670 - accuracy: 0.5571\n",
            "Epoch 3/20\n",
            "1000/1000 [==============================] - 6s 6ms/step - loss: 1.1532 - accuracy: 0.6015\n",
            "Epoch 4/20\n",
            "1000/1000 [==============================] - 6s 6ms/step - loss: 1.0825 - accuracy: 0.6249\n",
            "Epoch 5/20\n",
            "1000/1000 [==============================] - 3s 3ms/step - loss: 1.0341 - accuracy: 0.6432\n",
            "Epoch 6/20\n",
            "1000/1000 [==============================] - 3s 3ms/step - loss: 1.0012 - accuracy: 0.6540\n",
            "Epoch 7/20\n",
            "1000/1000 [==============================] - 3s 3ms/step - loss: 0.9712 - accuracy: 0.6649\n",
            "Epoch 8/20\n",
            "1000/1000 [==============================] - 4s 4ms/step - loss: 0.9483 - accuracy: 0.6732\n",
            "Epoch 9/20\n",
            "1000/1000 [==============================] - 3s 3ms/step - loss: 0.9255 - accuracy: 0.6802\n",
            "Epoch 10/20\n",
            "1000/1000 [==============================] - 4s 4ms/step - loss: 0.9098 - accuracy: 0.6872\n",
            "Epoch 11/20\n",
            "1000/1000 [==============================] - 4s 4ms/step - loss: 0.8936 - accuracy: 0.6904\n",
            "Epoch 12/20\n",
            "1000/1000 [==============================] - 3s 3ms/step - loss: 0.8800 - accuracy: 0.6971\n",
            "Epoch 13/20\n",
            "1000/1000 [==============================] - 3s 3ms/step - loss: 0.8654 - accuracy: 0.7009\n",
            "Epoch 14/20\n",
            "1000/1000 [==============================] - 4s 4ms/step - loss: 0.8566 - accuracy: 0.7038\n",
            "Epoch 15/20\n",
            "1000/1000 [==============================] - 4s 4ms/step - loss: 0.8448 - accuracy: 0.7072\n",
            "Epoch 16/20\n",
            "1000/1000 [==============================] - 3s 3ms/step - loss: 0.8346 - accuracy: 0.7129\n",
            "Epoch 17/20\n",
            "1000/1000 [==============================] - 3s 3ms/step - loss: 0.8204 - accuracy: 0.7173\n",
            "Epoch 18/20\n",
            "1000/1000 [==============================] - 4s 4ms/step - loss: 0.8152 - accuracy: 0.7198\n",
            "Epoch 19/20\n",
            "1000/1000 [==============================] - 3s 3ms/step - loss: 0.8047 - accuracy: 0.7233\n",
            "Epoch 20/20\n",
            "1000/1000 [==============================] - 3s 3ms/step - loss: 0.7956 - accuracy: 0.7255\n"
          ]
        },
        {
          "output_type": "execute_result",
          "data": {
            "text/plain": [
              "<keras.callbacks.History at 0x7f80c846ecb0>"
            ]
          },
          "metadata": {},
          "execution_count": 14
        }
      ]
    },
    {
      "cell_type": "markdown",
      "metadata": {
        "id": "P2HI-y-pQJNI"
      },
      "source": [
        "... και αξιολογούμε στα δεδομένα (x_test, y_test_fc)"
      ]
    },
    {
      "cell_type": "code",
      "source": [
        "y_test_fc = keras.utils.to_categorical(y_test, num_classes=10)"
      ],
      "metadata": {
        "id": "NMfhoM7YMNrj"
      },
      "execution_count": null,
      "outputs": []
    },
    {
      "cell_type": "code",
      "metadata": {
        "id": "Tu56CvZAcAyV",
        "colab": {
          "base_uri": "https://localhost:8080/"
        },
        "outputId": "6a49d3ec-391f-4d5e-996a-71e6bda9f242"
      },
      "source": [
        "###### EVALUATE MODEL HERE ( .evaluate() ) ######\n",
        "\n",
        "score = model.evaluate(x_test, y_test_fc, verbose= 'auto')\n",
        "print(\"Test loss:\", score[0])\n",
        "print(\"Test accuracy:\", score[1])"
      ],
      "execution_count": null,
      "outputs": [
        {
          "output_type": "stream",
          "name": "stdout",
          "text": [
            "313/313 [==============================] - 1s 4ms/step - loss: 0.9567 - accuracy: 0.6803\n",
            "Test loss: 0.956712007522583\n",
            "Test accuracy: 0.6802999973297119\n"
          ]
        }
      ]
    },
    {
      "cell_type": "markdown",
      "source": [
        "Με την χρήση πλήρως διασυνδεδεμένου νευρωνικού δικτύου πετύχαμε Test loss: 1.7373459339141846 και Test accuracy: 0.3831999897956848\n",
        "\n",
        "Με την χρήση συνελικτικού νευρωνικού δικτύου πετύχαμε πολύ καλύτερα αποτελέσματα με Test loss: 0.9351696372032166 και Test accuracy: 0.6620000004768372"
      ],
      "metadata": {
        "id": "KDt9TuBgN4qx"
      }
    },
    {
      "cell_type": "markdown",
      "metadata": {
        "id": "2tGyspDZQLaH"
      },
      "source": [
        "**Ερώτηση:** Τι παρατηρείτε σχετικά με τον αριθμό παραμέτρων και την επίδοση του κάθε δικτύου; Πως εξηγείτε τις παρατηρήσεις σας; Όπως αναφέρεται και στην εκφώνηση, πειραματιστείτε με διαφορετικές αρχιτεκτονικές, διαφορετικό αριθμό minibatches, εποχών, καθώς και διαφορετικές τιμές του learning rate."
      ]
    },
    {
      "cell_type": "markdown",
      "source": [
        "#3.3 Πειραματισμός για την ανάπτυξη μοντέλων νευρωνικών δικτύων"
      ],
      "metadata": {
        "id": "4O8Io59RVEpf"
      }
    },
    {
      "cell_type": "markdown",
      "source": [
        "### **Καλή επιτυχία!**"
      ],
      "metadata": {
        "id": "NK6yng9WMoCg"
      }
    },
    {
      "cell_type": "markdown",
      "source": [
        "# Fully connected model experiments\n"
      ],
      "metadata": {
        "id": "lFmcVD0APjVS"
      }
    },
    {
      "cell_type": "code",
      "source": [
        "#with 3 secret layers\n",
        "num_classes = 10\n",
        "\n",
        "model = keras.Sequential([\n",
        "    layers.Input(shape=(3072,)),\n",
        "    layers.Dense(20, activation='relu', ),\n",
        "    layers.Dense(20, activation='relu', ),\n",
        "    layers.Dense(20, activation='relu'),\n",
        "    layers.Dense(num_classes, activation='softmax')\n",
        "])\n",
        "\n",
        "\n",
        "model.summary()\n",
        "\n",
        "model.compile(loss=\"categorical_crossentropy\", optimizer=keras.optimizers.SGD(learning_rate=0.001), metrics=[\"accuracy\"])\n",
        "\n",
        "\n",
        "###### TRAIN MODEL HERE ( .fit() ) ######\n",
        "\n",
        "model.fit(x_train_fc, y_train_fc, epochs=20, batch_size=50)\n",
        "\n",
        "x_test_fc = x_test.reshape((x_test.shape[0], x_test[0].shape[0] * x_test[0].shape[1] * x_test[0].shape[2]))\n",
        "y_test_fc = keras.utils.to_categorical(y_test, num_classes=10)\n",
        "\n",
        "score = model.evaluate(x_test_fc, y_test_fc, verbose = 'auto')\n",
        "\n",
        "print(\"Test loss:\", score[0])\n",
        "print(\"Test accuracy:\", score[1])\n"
      ],
      "metadata": {
        "colab": {
          "base_uri": "https://localhost:8080/"
        },
        "id": "lutBVfJwPLc6",
        "outputId": "63836705-87a2-43a9-b4a4-5d3084824e8a"
      },
      "execution_count": null,
      "outputs": [
        {
          "output_type": "stream",
          "name": "stdout",
          "text": [
            "Model: \"sequential_2\"\n",
            "_________________________________________________________________\n",
            " Layer (type)                Output Shape              Param #   \n",
            "=================================================================\n",
            " dense_4 (Dense)             (None, 20)                61460     \n",
            "                                                                 \n",
            " dense_5 (Dense)             (None, 20)                420       \n",
            "                                                                 \n",
            " dense_6 (Dense)             (None, 20)                420       \n",
            "                                                                 \n",
            " dense_7 (Dense)             (None, 10)                210       \n",
            "                                                                 \n",
            "=================================================================\n",
            "Total params: 62,510\n",
            "Trainable params: 62,510\n",
            "Non-trainable params: 0\n",
            "_________________________________________________________________\n",
            "Epoch 1/20\n",
            "1000/1000 [==============================] - 4s 3ms/step - loss: 2.2751 - accuracy: 0.1574\n",
            "Epoch 2/20\n",
            "1000/1000 [==============================] - 3s 3ms/step - loss: 2.1940 - accuracy: 0.2037\n",
            "Epoch 3/20\n",
            "1000/1000 [==============================] - 4s 4ms/step - loss: 2.1022 - accuracy: 0.2336\n",
            "Epoch 4/20\n",
            "1000/1000 [==============================] - 3s 3ms/step - loss: 2.0322 - accuracy: 0.2554\n",
            "Epoch 5/20\n",
            "1000/1000 [==============================] - 3s 3ms/step - loss: 1.9829 - accuracy: 0.2806\n",
            "Epoch 6/20\n",
            "1000/1000 [==============================] - 3s 3ms/step - loss: 1.9492 - accuracy: 0.2990\n",
            "Epoch 7/20\n",
            "1000/1000 [==============================] - 4s 4ms/step - loss: 1.9255 - accuracy: 0.3091\n",
            "Epoch 8/20\n",
            "1000/1000 [==============================] - 3s 3ms/step - loss: 1.9048 - accuracy: 0.3203\n",
            "Epoch 9/20\n",
            "1000/1000 [==============================] - 3s 3ms/step - loss: 1.8875 - accuracy: 0.3299\n",
            "Epoch 10/20\n",
            "1000/1000 [==============================] - 3s 3ms/step - loss: 1.8710 - accuracy: 0.3378\n",
            "Epoch 11/20\n",
            "1000/1000 [==============================] - 4s 4ms/step - loss: 1.8563 - accuracy: 0.3448\n",
            "Epoch 12/20\n",
            "1000/1000 [==============================] - 3s 3ms/step - loss: 1.8414 - accuracy: 0.3484\n",
            "Epoch 13/20\n",
            "1000/1000 [==============================] - 3s 3ms/step - loss: 1.8270 - accuracy: 0.3557\n",
            "Epoch 14/20\n",
            "1000/1000 [==============================] - 3s 3ms/step - loss: 1.8134 - accuracy: 0.3590\n",
            "Epoch 15/20\n",
            "1000/1000 [==============================] - 4s 4ms/step - loss: 1.8003 - accuracy: 0.3636\n",
            "Epoch 16/20\n",
            "1000/1000 [==============================] - 3s 3ms/step - loss: 1.7883 - accuracy: 0.3684\n",
            "Epoch 17/20\n",
            "1000/1000 [==============================] - 3s 3ms/step - loss: 1.7773 - accuracy: 0.3702\n",
            "Epoch 18/20\n",
            "1000/1000 [==============================] - 3s 3ms/step - loss: 1.7664 - accuracy: 0.3752\n",
            "Epoch 19/20\n",
            "1000/1000 [==============================] - 3s 3ms/step - loss: 1.7569 - accuracy: 0.3779\n",
            "Epoch 20/20\n",
            "1000/1000 [==============================] - 3s 3ms/step - loss: 1.7476 - accuracy: 0.3803\n",
            "313/313 [==============================] - 1s 3ms/step - loss: 1.7474 - accuracy: 0.3802\n",
            "Test loss: 1.747406005859375\n",
            "Test accuracy: 0.38019999861717224\n"
          ]
        }
      ]
    },
    {
      "cell_type": "markdown",
      "source": [
        "Με 3 κρυφά επιπεδα είχαμε χειρότερα αποτελέσματα"
      ],
      "metadata": {
        "id": "6qapiirhRV-4"
      }
    },
    {
      "cell_type": "code",
      "source": [
        "#with 4 secret layers\n",
        "num_classes = 10\n",
        "\n",
        "model = keras.Sequential([\n",
        "    layers.Input(shape=(3072,)),\n",
        "    layers.Dense(20, activation='relu', ),\n",
        "    layers.Dense(20, activation='relu', ),\n",
        "    layers.Dense(20, activation='relu', ),\n",
        "    layers.Dense(20, activation='relu'),\n",
        "    layers.Dense(num_classes, activation='softmax')\n",
        "])\n",
        "\n",
        "\n",
        "model.summary()\n",
        "\n",
        "model.compile(loss=\"categorical_crossentropy\", optimizer=keras.optimizers.SGD(learning_rate=0.001), metrics=[\"accuracy\"])\n",
        "\n",
        "\n",
        "###### TRAIN MODEL HERE ( .fit() ) ######\n",
        "\n",
        "model.fit(x_train_fc, y_train_fc, epochs=20, batch_size=50)\n",
        "\n",
        "x_test_fc = x_test.reshape((x_test.shape[0], x_test[0].shape[0] * x_test[0].shape[1] * x_test[0].shape[2]))\n",
        "y_test_fc = keras.utils.to_categorical(y_test, num_classes=10)\n",
        "\n",
        "score = model.evaluate(x_test_fc, y_test_fc, verbose = 'auto')\n",
        "\n",
        "print(\"Test loss:\", score[0])\n",
        "print(\"Test accuracy:\", score[1])"
      ],
      "metadata": {
        "colab": {
          "base_uri": "https://localhost:8080/"
        },
        "id": "vUqgcuxwRvYE",
        "outputId": "bffd5730-d089-4149-87b9-27446c835247"
      },
      "execution_count": null,
      "outputs": [
        {
          "output_type": "stream",
          "name": "stdout",
          "text": [
            "Model: \"sequential_3\"\n",
            "_________________________________________________________________\n",
            " Layer (type)                Output Shape              Param #   \n",
            "=================================================================\n",
            " dense_8 (Dense)             (None, 20)                61460     \n",
            "                                                                 \n",
            " dense_9 (Dense)             (None, 20)                420       \n",
            "                                                                 \n",
            " dense_10 (Dense)            (None, 20)                420       \n",
            "                                                                 \n",
            " dense_11 (Dense)            (None, 20)                420       \n",
            "                                                                 \n",
            " dense_12 (Dense)            (None, 10)                210       \n",
            "                                                                 \n",
            "=================================================================\n",
            "Total params: 62,930\n",
            "Trainable params: 62,930\n",
            "Non-trainable params: 0\n",
            "_________________________________________________________________\n",
            "Epoch 1/20\n",
            "1000/1000 [==============================] - 5s 4ms/step - loss: 2.2969 - accuracy: 0.1123\n",
            "Epoch 2/20\n",
            "1000/1000 [==============================] - 3s 3ms/step - loss: 2.2845 - accuracy: 0.1260\n",
            "Epoch 3/20\n",
            "1000/1000 [==============================] - 3s 3ms/step - loss: 2.2640 - accuracy: 0.1611\n",
            "Epoch 4/20\n",
            "1000/1000 [==============================] - 3s 3ms/step - loss: 2.2369 - accuracy: 0.1955\n",
            "Epoch 5/20\n",
            "1000/1000 [==============================] - 4s 4ms/step - loss: 2.2026 - accuracy: 0.2056\n",
            "Epoch 6/20\n",
            "1000/1000 [==============================] - 3s 3ms/step - loss: 2.1620 - accuracy: 0.2116\n",
            "Epoch 7/20\n",
            "1000/1000 [==============================] - 3s 3ms/step - loss: 2.1207 - accuracy: 0.2201\n",
            "Epoch 8/20\n",
            "1000/1000 [==============================] - 4s 4ms/step - loss: 2.0822 - accuracy: 0.2295\n",
            "Epoch 9/20\n",
            "1000/1000 [==============================] - 4s 4ms/step - loss: 2.0443 - accuracy: 0.2435\n",
            "Epoch 10/20\n",
            "1000/1000 [==============================] - 3s 3ms/step - loss: 2.0102 - accuracy: 0.2543\n",
            "Epoch 11/20\n",
            "1000/1000 [==============================] - 3s 3ms/step - loss: 1.9803 - accuracy: 0.2686\n",
            "Epoch 12/20\n",
            "1000/1000 [==============================] - 4s 4ms/step - loss: 1.9559 - accuracy: 0.2815\n",
            "Epoch 13/20\n",
            "1000/1000 [==============================] - 3s 3ms/step - loss: 1.9372 - accuracy: 0.2910\n",
            "Epoch 14/20\n",
            "1000/1000 [==============================] - 3s 3ms/step - loss: 1.9224 - accuracy: 0.2980\n",
            "Epoch 15/20\n",
            "1000/1000 [==============================] - 3s 3ms/step - loss: 1.9102 - accuracy: 0.3026\n",
            "Epoch 16/20\n",
            "1000/1000 [==============================] - 4s 4ms/step - loss: 1.8990 - accuracy: 0.3072\n",
            "Epoch 17/20\n",
            "1000/1000 [==============================] - 3s 3ms/step - loss: 1.8895 - accuracy: 0.3117\n",
            "Epoch 18/20\n",
            "1000/1000 [==============================] - 3s 3ms/step - loss: 1.8801 - accuracy: 0.3167\n",
            "Epoch 19/20\n",
            "1000/1000 [==============================] - 4s 4ms/step - loss: 1.8712 - accuracy: 0.3197\n",
            "Epoch 20/20\n",
            "1000/1000 [==============================] - 3s 3ms/step - loss: 1.8626 - accuracy: 0.3253\n",
            "313/313 [==============================] - 1s 2ms/step - loss: 1.8650 - accuracy: 0.3242\n",
            "Test loss: 1.8650456666946411\n",
            "Test accuracy: 0.32420000433921814\n"
          ]
        }
      ]
    },
    {
      "cell_type": "markdown",
      "source": [
        "Υπήρξε μία μικρή βελτιώση με την προσθήκη 4ου επιπέδου"
      ],
      "metadata": {
        "id": "9SCJQStgSHBo"
      }
    },
    {
      "cell_type": "code",
      "source": [
        "# Με 30 νευρώνες σε κάθε επίπεδο\n",
        "\n",
        "num_classes = 10\n",
        "\n",
        "model = keras.Sequential([\n",
        "    layers.Input(shape=(3072,)),\n",
        "    layers.Dense(30, activation='relu', ),\n",
        "    layers.Dense(30, activation='relu'),\n",
        "    layers.Dense(num_classes, activation='softmax')\n",
        "])\n",
        "\n",
        "\n",
        "model.summary()\n",
        "\n",
        "model.compile(loss=\"categorical_crossentropy\", optimizer=keras.optimizers.SGD(learning_rate=0.001), metrics=[\"accuracy\"])\n",
        "\n",
        "\n",
        "###### TRAIN MODEL HERE ( .fit() ) ######\n",
        "\n",
        "model.fit(x_train_fc, y_train_fc, epochs=20, batch_size=50)\n",
        "\n",
        "x_test_fc = x_test.reshape((x_test.shape[0], x_test[0].shape[0] * x_test[0].shape[1] * x_test[0].shape[2]))\n",
        "y_test_fc = keras.utils.to_categorical(y_test, num_classes=10)\n",
        "\n",
        "score = model.evaluate(x_test_fc, y_test_fc, verbose = 'auto')\n",
        "\n",
        "print(\"Test loss:\", score[0])\n",
        "print(\"Test accuracy:\", score[1])"
      ],
      "metadata": {
        "colab": {
          "base_uri": "https://localhost:8080/"
        },
        "id": "8qODlNMNSyRR",
        "outputId": "04b68da3-9bd5-4948-d105-495c9a863d5f"
      },
      "execution_count": null,
      "outputs": [
        {
          "output_type": "stream",
          "name": "stdout",
          "text": [
            "Model: \"sequential_4\"\n",
            "_________________________________________________________________\n",
            " Layer (type)                Output Shape              Param #   \n",
            "=================================================================\n",
            " dense_13 (Dense)            (None, 30)                92190     \n",
            "                                                                 \n",
            " dense_14 (Dense)            (None, 30)                930       \n",
            "                                                                 \n",
            " dense_15 (Dense)            (None, 10)                310       \n",
            "                                                                 \n",
            "=================================================================\n",
            "Total params: 93,430\n",
            "Trainable params: 93,430\n",
            "Non-trainable params: 0\n",
            "_________________________________________________________________\n",
            "Epoch 1/20\n",
            "1000/1000 [==============================] - 4s 3ms/step - loss: 2.2320 - accuracy: 0.1688\n",
            "Epoch 2/20\n",
            "1000/1000 [==============================] - 3s 3ms/step - loss: 2.1062 - accuracy: 0.2322\n",
            "Epoch 3/20\n",
            "1000/1000 [==============================] - 3s 3ms/step - loss: 2.0124 - accuracy: 0.2707\n",
            "Epoch 4/20\n",
            "1000/1000 [==============================] - 3s 3ms/step - loss: 1.9507 - accuracy: 0.2988\n",
            "Epoch 5/20\n",
            "1000/1000 [==============================] - 3s 3ms/step - loss: 1.9119 - accuracy: 0.3213\n",
            "Epoch 6/20\n",
            "1000/1000 [==============================] - 3s 3ms/step - loss: 1.8848 - accuracy: 0.3320\n",
            "Epoch 7/20\n",
            "1000/1000 [==============================] - 3s 3ms/step - loss: 1.8656 - accuracy: 0.3400\n",
            "Epoch 8/20\n",
            "1000/1000 [==============================] - 3s 3ms/step - loss: 1.8483 - accuracy: 0.3486\n",
            "Epoch 9/20\n",
            "1000/1000 [==============================] - 3s 3ms/step - loss: 1.8334 - accuracy: 0.3537\n",
            "Epoch 10/20\n",
            "1000/1000 [==============================] - 3s 3ms/step - loss: 1.8194 - accuracy: 0.3597\n",
            "Epoch 11/20\n",
            "1000/1000 [==============================] - 3s 3ms/step - loss: 1.8073 - accuracy: 0.3635\n",
            "Epoch 12/20\n",
            "1000/1000 [==============================] - 3s 3ms/step - loss: 1.7955 - accuracy: 0.3675\n",
            "Epoch 13/20\n",
            "1000/1000 [==============================] - 3s 3ms/step - loss: 1.7850 - accuracy: 0.3713\n",
            "Epoch 14/20\n",
            "1000/1000 [==============================] - 3s 3ms/step - loss: 1.7747 - accuracy: 0.3751\n",
            "Epoch 15/20\n",
            "1000/1000 [==============================] - 3s 3ms/step - loss: 1.7646 - accuracy: 0.3794\n",
            "Epoch 16/20\n",
            "1000/1000 [==============================] - 3s 3ms/step - loss: 1.7555 - accuracy: 0.3828\n",
            "Epoch 17/20\n",
            "1000/1000 [==============================] - 3s 3ms/step - loss: 1.7466 - accuracy: 0.3852\n",
            "Epoch 18/20\n",
            "1000/1000 [==============================] - 3s 3ms/step - loss: 1.7398 - accuracy: 0.3882\n",
            "Epoch 19/20\n",
            "1000/1000 [==============================] - 3s 3ms/step - loss: 1.7318 - accuracy: 0.3925\n",
            "Epoch 20/20\n",
            "1000/1000 [==============================] - 3s 3ms/step - loss: 1.7249 - accuracy: 0.3947\n",
            "313/313 [==============================] - 1s 2ms/step - loss: 1.7229 - accuracy: 0.3953\n",
            "Test loss: 1.7229410409927368\n",
            "Test accuracy: 0.3953000009059906\n"
          ]
        }
      ]
    },
    {
      "cell_type": "markdown",
      "source": [
        "Ούτε η προσθήκη νευρώνων έκανε διαφορά"
      ],
      "metadata": {
        "id": "OViA0_OjTbzH"
      }
    },
    {
      "cell_type": "code",
      "source": [
        "# Με optimizer=adam και learning_rate=0.01\n",
        "\n",
        "num_classes = 10\n",
        "\n",
        "model = keras.Sequential([\n",
        "    layers.Input(shape=(3072,)),\n",
        "    layers.Dense(20, activation='relu', ),\n",
        "    layers.Dense(20, activation='relu'),\n",
        "    layers.Dense(num_classes, activation='softmax')\n",
        "])\n",
        "\n",
        "\n",
        "model.summary()\n",
        "\n",
        "model.compile(loss=\"categorical_crossentropy\", optimizer=keras.optimizers.Adam(learning_rate=0.01), metrics=[\"accuracy\"])\n",
        "\n",
        "###### TRAIN MODEL HERE ( .fit() ) ######\n",
        "\n",
        "model.fit(x_train_fc, y_train_fc, epochs=20, batch_size=50)\n",
        "\n",
        "x_test_fc = x_test.reshape((x_test.shape[0], x_test[0].shape[0] * x_test[0].shape[1] * x_test[0].shape[2]))\n",
        "y_test_fc = keras.utils.to_categorical(y_test, num_classes=10)\n",
        "\n",
        "score = model.evaluate(x_test_fc, y_test_fc, verbose = 'auto')\n",
        "\n",
        "print(\"Test loss:\", score[0])\n",
        "print(\"Test accuracy:\", score[1])"
      ],
      "metadata": {
        "colab": {
          "base_uri": "https://localhost:8080/"
        },
        "id": "37GuO6tiTm1X",
        "outputId": "a9e14190-9969-43a6-c1ca-b6a16e8992ae"
      },
      "execution_count": null,
      "outputs": [
        {
          "output_type": "stream",
          "name": "stdout",
          "text": [
            "Model: \"sequential_5\"\n",
            "_________________________________________________________________\n",
            " Layer (type)                Output Shape              Param #   \n",
            "=================================================================\n",
            " dense_16 (Dense)            (None, 20)                61460     \n",
            "                                                                 \n",
            " dense_17 (Dense)            (None, 20)                420       \n",
            "                                                                 \n",
            " dense_18 (Dense)            (None, 10)                210       \n",
            "                                                                 \n",
            "=================================================================\n",
            "Total params: 62,090\n",
            "Trainable params: 62,090\n",
            "Non-trainable params: 0\n",
            "_________________________________________________________________\n",
            "Epoch 1/20\n",
            "1000/1000 [==============================] - 5s 3ms/step - loss: 2.3144 - accuracy: 0.1001\n",
            "Epoch 2/20\n",
            "1000/1000 [==============================] - 3s 3ms/step - loss: 2.3035 - accuracy: 0.1004\n",
            "Epoch 3/20\n",
            "1000/1000 [==============================] - 3s 3ms/step - loss: 2.3040 - accuracy: 0.0989\n",
            "Epoch 4/20\n",
            "1000/1000 [==============================] - 4s 4ms/step - loss: 2.3036 - accuracy: 0.0993\n",
            "Epoch 5/20\n",
            "1000/1000 [==============================] - 3s 3ms/step - loss: 2.3038 - accuracy: 0.0980\n",
            "Epoch 6/20\n",
            "1000/1000 [==============================] - 3s 3ms/step - loss: 2.3037 - accuracy: 0.1009\n",
            "Epoch 7/20\n",
            "1000/1000 [==============================] - 3s 3ms/step - loss: 2.3037 - accuracy: 0.0995\n",
            "Epoch 8/20\n",
            "1000/1000 [==============================] - 4s 4ms/step - loss: 2.3037 - accuracy: 0.0998\n",
            "Epoch 9/20\n",
            "1000/1000 [==============================] - 3s 3ms/step - loss: 2.3038 - accuracy: 0.1018\n",
            "Epoch 10/20\n",
            "1000/1000 [==============================] - 3s 3ms/step - loss: 2.3038 - accuracy: 0.0977\n",
            "Epoch 11/20\n",
            "1000/1000 [==============================] - 3s 3ms/step - loss: 2.3037 - accuracy: 0.0994\n",
            "Epoch 12/20\n",
            "1000/1000 [==============================] - 4s 4ms/step - loss: 2.3038 - accuracy: 0.0989\n",
            "Epoch 13/20\n",
            "1000/1000 [==============================] - 3s 3ms/step - loss: 2.3036 - accuracy: 0.1014\n",
            "Epoch 14/20\n",
            "1000/1000 [==============================] - 3s 3ms/step - loss: 2.3038 - accuracy: 0.0973\n",
            "Epoch 15/20\n",
            "1000/1000 [==============================] - 3s 3ms/step - loss: 2.3036 - accuracy: 0.1021\n",
            "Epoch 16/20\n",
            "1000/1000 [==============================] - 4s 4ms/step - loss: 2.3037 - accuracy: 0.0983\n",
            "Epoch 17/20\n",
            "1000/1000 [==============================] - 3s 3ms/step - loss: 2.3038 - accuracy: 0.1022\n",
            "Epoch 18/20\n",
            "1000/1000 [==============================] - 3s 3ms/step - loss: 2.3037 - accuracy: 0.0999\n",
            "Epoch 19/20\n",
            "1000/1000 [==============================] - 3s 3ms/step - loss: 2.3037 - accuracy: 0.1006\n",
            "Epoch 20/20\n",
            "1000/1000 [==============================] - 4s 4ms/step - loss: 2.3036 - accuracy: 0.1004\n",
            "313/313 [==============================] - 1s 2ms/step - loss: 2.3042 - accuracy: 0.1000\n",
            "Test loss: 2.3041582107543945\n",
            "Test accuracy: 0.10000000149011612\n"
          ]
        }
      ]
    },
    {
      "cell_type": "markdown",
      "source": [
        "Η παραπάνω δοκιμή έφερε αρκετά χειρότερα αποτελέσματα"
      ],
      "metadata": {
        "id": "YdGI1koyU6P4"
      }
    }
  ]
}